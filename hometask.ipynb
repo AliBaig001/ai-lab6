import pandas as pd
import numpy as np
import matplotlib.pyplot as plt
from sklearn.cluster import KMeans

# Load the dataset
file_path = 'items.csv'
data = pd.read_csv(file_path)

# Display the first few rows of the dataset
print("Dataset Preview:")
print(data.head())


# Adjust column names if necessary based on your dataset
columns_to_use = data.columns[:2]  # Use the first two columns (adjust if needed)
X = data[columns_to_use].values

# Implement K-Means Clustering
kmeans = KMeans(n_clusters=3, random_state=42)
kmeans.fit(X)

# Get cluster labels and centroids
labels = kmeans.labels_
centroids = kmeans.cluster_centers_

# Add cluster labels to the original dataset
data['Cluster'] = labels

# Display the new centroids
print("\nCentroids:")
for idx, centroid in enumerate(centroids):
    print(f"Cluster {idx}: {centroid}")
# Visualize the clusters
plt.figure(figsize=(8, 6))
for i in range(3):  # For 3 clusters
    plt.scatter(X[labels == i, 0], X[labels == i, 1], label=f'Cluster {i}')

# Plot centroids
plt.scatter(centroids[:, 0], centroids[:, 1], s=300, c='red', marker='X', label='Centroids')

plt.title('K-Means Clustering')
plt.xlabel(columns_to_use[0])
plt.ylabel(columns_to_use[1])
plt.legend()
plt.show()
